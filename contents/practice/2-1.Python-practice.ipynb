{
 "cells": [
  {
   "cell_type": "markdown",
   "metadata": {},
   "source": [
    "# LOL TFT 캐릭터 클래스 만들기"
   ]
  },
  {
   "cell_type": "code",
   "execution_count": 1,
   "metadata": {},
   "outputs": [],
   "source": [
    "class LolChess:\n",
    "    population = 0\n",
    "    origin_synergy = dict(Dragonsoul=0, Spirit=0, \n",
    "                          Cultist=0, Daredevil=0)\n",
    "    origin = {\n",
    "        'Dragonsoul': ['Tristana', 'Brand', 'Braum', \n",
    "                        'Shyvana', 'Aurelion Sol', \n",
    "                        'Olaf', 'Swain'],\n",
    "        'Spirit': ['Diana', 'Teemo', 'Kindred', 'Yuumi'],\n",
    "        'Cultist': ['Elise', 'TwistedFate', 'Pyke',\n",
    "                   'Vladimir', 'Kalista', 'Sivir',\n",
    "                   'Aatrox', 'Zilean'],\n",
    "        'Daredevil': ['Samira']\n",
    "    }\n",
    "\n",
    "    \n",
    "    def __init__(self, name, skill=None):\n",
    "        self.name = name\n",
    "        self.skill = skill\n",
    "        LolChess.population += 1\n",
    "        \n",
    "        for key, val in LolChess.origin.items():\n",
    "            if self.name in val:\n",
    "                self.origin = key\n",
    "                break\n",
    "        LolChess.origin_synergy[self.origin] += 1\n",
    "        \n",
    "    def attack(self):\n",
    "        if self.skill == None:\n",
    "            return '스킬을 획득하세요!'\n",
    "        else:\n",
    "            return f'{self.name} 님이 {self.skill}을 사용했습니다.'\n",
    "        \n",
    "    @classmethod\n",
    "    def team_member(cls):\n",
    "        return f'현재 {cls.population} 명의 챔피언이 있습니다.'\n",
    "    \n",
    "    @classmethod\n",
    "    def synergy(cls):\n",
    "        for key, val in cls.origin_synergy.items():\n",
    "            if val > 0:\n",
    "                print(f'{key}: {val}')\n",
    "    \n",
    "    @staticmethod\n",
    "    def welcome():\n",
    "        return 'LolChess에 오신 걸 환영합니다.'\n",
    "        \n",
    "    def __del__(self):\n",
    "        LolChess.population -= 1\n",
    "        LolChess.origin_synergy[self.origin] -= 1"
   ]
  },
  {
   "cell_type": "code",
   "execution_count": 2,
   "metadata": {},
   "outputs": [
    {
     "data": {
      "text/plain": [
       "'LolChess에 오신 걸 환영합니다.'"
      ]
     },
     "execution_count": 2,
     "metadata": {},
     "output_type": "execute_result"
    }
   ],
   "source": [
    "LolChess.welcome()"
   ]
  },
  {
   "cell_type": "code",
   "execution_count": 3,
   "metadata": {},
   "outputs": [],
   "source": [
    "cham1 = LolChess('Yuumi', 'Zoomies')\n",
    "cham2 = LolChess('Swain')"
   ]
  },
  {
   "cell_type": "code",
   "execution_count": 4,
   "metadata": {},
   "outputs": [
    {
     "data": {
      "text/plain": [
       "'Yuumi'"
      ]
     },
     "execution_count": 4,
     "metadata": {},
     "output_type": "execute_result"
    }
   ],
   "source": [
    "cham1.name"
   ]
  },
  {
   "cell_type": "code",
   "execution_count": 5,
   "metadata": {},
   "outputs": [
    {
     "data": {
      "text/plain": [
       "'Spirit'"
      ]
     },
     "execution_count": 5,
     "metadata": {},
     "output_type": "execute_result"
    }
   ],
   "source": [
    "cham1.origin"
   ]
  },
  {
   "cell_type": "code",
   "execution_count": 6,
   "metadata": {},
   "outputs": [
    {
     "data": {
      "text/plain": [
       "'스킬을 획득하세요!'"
      ]
     },
     "execution_count": 6,
     "metadata": {},
     "output_type": "execute_result"
    }
   ],
   "source": [
    "cham2.attack()"
   ]
  },
  {
   "cell_type": "code",
   "execution_count": 7,
   "metadata": {},
   "outputs": [],
   "source": [
    "cham2.skill = 'Draconic Ascension'"
   ]
  },
  {
   "cell_type": "code",
   "execution_count": 8,
   "metadata": {},
   "outputs": [
    {
     "data": {
      "text/plain": [
       "'Swain 님이 Draconic Ascension을 시전했습니다.'"
      ]
     },
     "execution_count": 8,
     "metadata": {},
     "output_type": "execute_result"
    }
   ],
   "source": [
    "cham2.attack()"
   ]
  },
  {
   "cell_type": "code",
   "execution_count": 9,
   "metadata": {
    "scrolled": true
   },
   "outputs": [
    {
     "data": {
      "text/plain": [
       "'현재 2 명의 챔피언이 있습니다.'"
      ]
     },
     "execution_count": 9,
     "metadata": {},
     "output_type": "execute_result"
    }
   ],
   "source": [
    "LolChess.team_member()"
   ]
  },
  {
   "cell_type": "code",
   "execution_count": 10,
   "metadata": {},
   "outputs": [
    {
     "name": "stdout",
     "output_type": "stream",
     "text": [
      "Dragonsoul: 1\n",
      "Spirit: 1\n"
     ]
    }
   ],
   "source": [
    "LolChess.synergy()"
   ]
  },
  {
   "cell_type": "code",
   "execution_count": 11,
   "metadata": {},
   "outputs": [],
   "source": [
    "del cham1"
   ]
  },
  {
   "cell_type": "code",
   "execution_count": 12,
   "metadata": {},
   "outputs": [
    {
     "data": {
      "text/plain": [
       "'현재 1 명의 챔피언이 있습니다.'"
      ]
     },
     "execution_count": 12,
     "metadata": {},
     "output_type": "execute_result"
    }
   ],
   "source": [
    "LolChess.team_member()"
   ]
  }
 ],
 "metadata": {
  "kernelspec": {
   "display_name": "Python 3",
   "language": "python",
   "name": "python3"
  },
  "language_info": {
   "codemirror_mode": {
    "name": "ipython",
    "version": 3
   },
   "file_extension": ".py",
   "mimetype": "text/x-python",
   "name": "python",
   "nbconvert_exporter": "python",
   "pygments_lexer": "ipython3",
   "version": "3.8.7"
  },
  "toc": {
   "base_numbering": 1,
   "nav_menu": {},
   "number_sections": true,
   "sideBar": true,
   "skip_h1_title": false,
   "title_cell": "Table of Contents",
   "title_sidebar": "Contents",
   "toc_cell": false,
   "toc_position": {},
   "toc_section_display": true,
   "toc_window_display": false
  }
 },
 "nbformat": 4,
 "nbformat_minor": 4
}
